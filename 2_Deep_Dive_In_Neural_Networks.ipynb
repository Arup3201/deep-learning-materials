{
  "nbformat": 4,
  "nbformat_minor": 0,
  "metadata": {
    "colab": {
      "provenance": [],
      "authorship_tag": "ABX9TyM9YsHZSQCkKsWFKLuCaCR8",
      "include_colab_link": true
    },
    "kernelspec": {
      "name": "python3",
      "display_name": "Python 3"
    },
    "language_info": {
      "name": "python"
    }
  },
  "cells": [
    {
      "cell_type": "markdown",
      "metadata": {
        "id": "view-in-github",
        "colab_type": "text"
      },
      "source": [
        "<a href=\"https://colab.research.google.com/github/Arup3201/deep-learning-materials/blob/main/2_Deep_Dive_In_Neural_Networks.ipynb\" target=\"_parent\"><img src=\"https://colab.research.google.com/assets/colab-badge.svg\" alt=\"Open In Colab\"/></a>"
      ]
    },
    {
      "cell_type": "markdown",
      "source": [
        "In the previous notebook, you saw how to create a simple neural network to solve a regression problem. Regression problems are those problems where you need to output a real-number which has infinite possibilities. It can be 2, it can be 10.4, it can be 1000 or even a really big number. When your output can be any value from the infinite possible values then it is called regression.\n",
        "\n",
        "The relation in the previous notebook was Y=2X-1 given the X and Y pairs.\n",
        "\n",
        "[![relation-X-Y.png](https://i.postimg.cc/RCkmrgYt/relation-X-Y.png)](https://postimg.cc/RqLyKL4C)\n",
        "\n",
        "Now, it is time to understand what happened at the backend properly.\n",
        "* What are neurons?\n",
        "* What are activation functions?\n",
        "* What are loss?\n",
        "* How optimizer works?\n",
        "* And other questions...\n",
        "\n",
        "\n",
        "The neural network does the same job as deriving the equation from the example dataset given to it when called the `.fit` method. The value of `w` and `b` are something the neural network learns by itself by going through trial and error just like we humans do.\n",
        "\n",
        "[![X-Y-neural-network-representation.png](https://i.postimg.cc/xd9zLck1/X-Y-neural-network-representation.png)](https://postimg.cc/rDYskyCB)\n",
        "\n",
        "\n",
        "After it finds out the values of `w` and `b` then the only job remaining is simply put those values in the equation `wx+b`. When we call `.predict` method, the neural network simply puts the `x` value inside the equation `2x-1` and gives out the result.\n",
        "\n",
        "This eliptical shape that contains the equation is called `neuron` which does all the calculation and giving outputs.\n",
        "\n",
        "To explain the neuron in a more general way, we can take the following diagram.\n",
        "\n",
        "[![neural-network-neuron-breakdown.png](https://i.postimg.cc/h46rdjvT/neural-network-neuron-breakdown.png)](https://postimg.cc/PNbYGdm5)\n",
        "\n",
        "In this diagram as you can see the overall neuron has 2 parts -\n",
        "* One part calculates the `wx+b`, the result of which we save at `z`.\n",
        "* Other part is the `f(z)` which applies a function on `z`. `f` can be any function like linear, sigmoid, softmax, relu etc. We will look at different types of functions later. Most of the times `f` is linear by default. Linear function means, `f(z)=z` which is the case in our first and second example of neural network.\n",
        "\n",
        "We combine this 2 parts and say that the circle is the `neuron` given below,\n",
        "\n",
        "[![neural-network-img.png](https://i.postimg.cc/sxmhfsn6/neural-network-img.png)](https://postimg.cc/dZ714Pcr)"
      ],
      "metadata": {
        "id": "M1EEMQGDluwq"
      }
    },
    {
      "cell_type": "code",
      "execution_count": null,
      "metadata": {
        "id": "tjpRbGHAxKZg"
      },
      "outputs": [],
      "source": []
    }
  ]
}