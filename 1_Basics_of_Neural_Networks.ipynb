{
  "nbformat": 4,
  "nbformat_minor": 0,
  "metadata": {
    "colab": {
      "provenance": [],
      "authorship_tag": "ABX9TyNqHtuv/ey0xKBR0VHYOb5+",
      "include_colab_link": true
    },
    "kernelspec": {
      "name": "python3",
      "display_name": "Python 3"
    },
    "language_info": {
      "name": "python"
    }
  },
  "cells": [
    {
      "cell_type": "markdown",
      "metadata": {
        "id": "view-in-github",
        "colab_type": "text"
      },
      "source": [
        "<a href=\"https://colab.research.google.com/github/Arup3201/deep-learning-materials/blob/main/1_Basics_of_Neural_Networks.ipynb\" target=\"_parent\"><img src=\"https://colab.research.google.com/assets/colab-badge.svg\" alt=\"Open In Colab\"/></a>"
      ]
    },
    {
      "cell_type": "markdown",
      "source": [
        "# Lecture 1: Understanding the basics of Deep Learning\n",
        "## Table of contents:\n",
        "* **1. Deep Learning in Nutshell**\n",
        "  * Traditional Programming\n",
        "  * How machine learning is different\n",
        "  * What is Deep Learning?\n",
        "* **2. Introduction to the Task**\n",
        "  * Explain the goal of the first lecture: to build a basic neural network that performs a task similar to linear regression.\n",
        "  * Briefly recap the concept of linear regression and how it predicts a continuous output.\n",
        "  * Highlight the advantages of using neural networks for more complex tasks.\n",
        "\n",
        "* **3. Dataset Overview**\n",
        "  * Introduce the dataset that will be used for the demonstration.\n",
        "  * Emphasize that it's a simple dataset with just one input feature and one output target.\n",
        "  * Show a few examples from the dataset for visualization.\n",
        "\n",
        "* **4. Building the Basic Neural Network**\n",
        "  * Introduce the keras.layers.Dense layer and its function in creating a neural network.\n",
        "  * Explain the number of neurons in the input layer (1) and output layer (1) for this task.\n",
        "  * Mention the use of a single hidden layer for simplicity.\n",
        "  * Show how to define the model architecture using TensorFlow Keras.\n",
        "\n",
        "* **5. Compiling the Model**\n",
        "  * Explain the concept of model compilation and its components (optimizer, loss function, metrics).\n",
        "  * Use Mean Squared Error (MSE) as the loss function for regression.\n",
        "  * Choose an optimizer such as Stochastic Gradient Descent (SGD).\n",
        "  * Mention Mean Absolute Error (MAE) as a metric for evaluation.\n",
        "\n",
        "* **6. Training the Model**\n",
        "  * Prepare the data for training (input features and target values).\n",
        "  * Demonstrate the training process using the model.fit method.\n",
        "  * Show how to specify the number of epochs and batch size.\n",
        "  * Monitor the training progress and discuss how the loss decreases over epochs.\n",
        "\n",
        "* **7. Visualization**\n",
        "  * Visualize the training data points on a scatter plot.\n",
        "  * Plot the predicted line (output of the neural network) on the same scatter plot.\n",
        "  * Visually show how the neural network's output line evolves with training.\n",
        "\n",
        "* **8. Model Evaluation**\n",
        "  * Calculate the Mean Squared Error and Mean Absolute Error on the training data.\n",
        "  * Discuss the model's performance and how it compares to a traditional linear regression model.\n",
        "\n",
        "* **9. Making Predictions**\n",
        "  * Use the trained model to make predictions on new data points.\n",
        "  * Show how to input a new data point and get the predicted output.\n",
        "\n",
        "* **10. Conclusion and Next Steps**\n",
        "  * Recap the key points covered in the first lecture.\n",
        "  * Emphasize that they have built their first neural network successfully.\n",
        "  * Encourage students to explore more complex architectures and tasks in future lectures."
      ],
      "metadata": {
        "id": "DcoSnlEYuZin"
      }
    },
    {
      "cell_type": "markdown",
      "source": [
        "## Deep Learning in Nutshell\n",
        "\n",
        "Programming has been the bread and butter for many developers since the discovery of computers.\n",
        "\n",
        "Whenever developers needed to make any computer applications, they will usually break down the compononents of the applications and solve those compononents as individual problems and code their rules to solve that particular problem.\n",
        "\n",
        "Let's say for example, we are to create a game for playing with ball. The ball can jump from down to up and whenever it hits the blocks at the top the blocks disappear and we get points. But, everytime when the ball comes down after hitting one or more blocks we need to catch that ball with a small black surface. If we fail to catch the ball then we will lose.\n",
        "\n",
        "![Ball Game](https://www.heroconcept.com/wp-content/uploads/2018/09/breakout.jpg)\n",
        "\n",
        "So, we break down the problem of creating this game into different problems and let's say we focus our attention to the problem of hitting the bricks at the top and controlling the balls movements after that.\n",
        "\n",
        "```c\n",
        "if(ball.collide(brick)) {\n",
        "  removeBrick();\n",
        "  ball.dx = -1*(ball.dx);\n",
        "  ball.dy = -1*(ball.dy);\n",
        "}\n",
        "```\n",
        "\n",
        "BUT, the question comes when we try to solve the problems which are more general and common but can't be easily expressed as rules by us.\n",
        "\n",
        "You are asked to make an application that can detect whether a person is walking/running/biking/hiking?\n",
        "\n",
        "![Problem with deep learning](https://i.postimg.cc/NMH9vhGv/problems-with-deep-learning-images.png)\n",
        "\n",
        "What will you do?\n",
        "\n",
        "Maybe for walking/runnung/hiking you can say\n",
        "```c\n",
        "if(speed < 4) {\n",
        "  status=walking;\n",
        "}\n",
        "else if(speed < 10) {\n",
        "  status=running;\n",
        "}\n",
        "else {\n",
        "  status=biking;\n",
        "}\n",
        "```\n",
        "\n",
        "But what about hiking?\n",
        "\n",
        "How can you define it?\n",
        "\n",
        "Even though walking/running/biking is not as simple as just mentioning their speed. Different person has different speeds and other factors like someone going up and down while running, how that looks like... all these things play an important role in determining their state.\n",
        "\n",
        "That is where Machine Learning comes into picture.\n",
        "\n",
        "Machine Learning is essentially doing the same thing but changing the same old way of writing code by yourself to define those rules.\n",
        "\n",
        "When we talk about traditional programming, we had to define how walking looks like, how running looks like, how biking looks like etc...\n",
        "\n",
        "![Deep Learning in Nutshell](https://i.postimg.cc/Bn4x5vSL/Deep-Learning-in-Nutshell.png)\n",
        "\n",
        "Now, instead of you specifying how walking/running/biking/hiking look like (e.g. `speed < 4` or things like that), you provide how they looks like, when a person walks what it looks like, when a person runs what it looks like, along with the labels that labels those examples like if a person is walking then the label will be WALKING, if a person is running then label will be RUNNING and so on. And from that what we will get is the rules that define those states. *This is machine learning in nutshell*.\n",
        "\n",
        "For example, when the machine learning system learns about all these states, maybe it will notice that when a person runs their feet will have a certain distance range, or when a person is biking their will be something like a cycle in the image, all this tiny tiny details will be taken into account by the system itself and it will automatically find out those rules/conditions when learning from the data and answers provided to it in this case they are images of people walking/running/biking/hiking and their labels.\n",
        "\n",
        "NOTE: **Neural network is just an advance version of machine learning which is called deep learning.**"
      ],
      "metadata": {
        "id": "4vAuObnkUPNa"
      }
    },
    {
      "cell_type": "markdown",
      "source": [
        "## Introduction to the Task\n",
        "\n",
        "### Our Goal in this Notebook\n",
        "The Goal of this leacture is to explain you how neural networks can implement linear regression and give not just the same but even better solutions.\n",
        "\n",
        "\n",
        "---\n",
        "\n",
        "\n",
        "### A brief recap on Linear Regression\n",
        "\n",
        "Linear Regression model is just a linear function of the inputs given to the model. If the input we have is $x_1$ then linear regression model will be linear function of $x_1$ and then the equation of that linear function will look like this - $ŷ = w_1*x_1 + b$ ______(eq. 1)\n",
        "\n",
        "For the more than one inputs, the equation would look like this -\n",
        "$ŷ = w_1*x_1 + w_2*x_2 + ... + w_n*x_n + b$ _______(eq. 2)\n",
        "\n",
        "In this equation-\n",
        "* $ŷ$ : The predicted value for all the n input(s)\n",
        "* $w_i, b$ : The parameters of the model, weights and bias respectively, for $i=1, 2, ...n$ in the equation.\n",
        "\n",
        "\n",
        "More generaly, the linear regression model is just the weighted sum of the imputs, plus a constant term called bias.\n",
        "\n",
        "The eq. 2 can also be written in the vectorized form like this -\n",
        "$$ŷ = h_{W, b}(X) = W^T.X + b$$\n",
        "\n",
        "\n",
        "Till this point, we have discussed about the prediction part. But, the main thing model is learning. To make the learn, it needs to set it's parameters (W, b) in such a way that best fits the training data. For this, the models needs 2 things -\n",
        "1. A function that can measure the performance of the model so that the model can improve itself in the right direction. In this step, we will choose a loss function which can tell us ***how much far away we are from our expected model***, that will hopefully give all results correctly.\n",
        "2. Another functionality for actually improving the parameters of the model after looking at the performance. If the model performes very badly then the improvement will be more and when the model starts performing well, the speed of improvement will slower. This is called optimization the model.\n",
        "\n",
        "As for the loss function, it is quite a trend to choose the **Mean Squared Error (MSE)**, therefore to get the expected model we need to find those values of `W and b` that can minimize the MSE of our model.\n",
        "\n",
        "The equation for the MSE is-\n",
        "$$MSE(W, b) = \\frac{1}{m} * \\sum({ŷ^{(i)} - y^{(i)}})^2$$\n",
        "\n",
        "---\n",
        "\n",
        "### Advantange of Neural Networks over other ML algorithms\n",
        "\n",
        "1. Here, we are looking at the linear regression problem and solving it by neural networks. But, neural networks can do a lot more. This notebook is just a demonstration of one of it's applications.\n",
        "\n",
        "2. Neural networks has the power to learn anything which a human can do and it can perform some tasks with much more efficiency than human.\n",
        "\n",
        "3. The best example of the power of deep neural networks is `ChatGPT` which is an advanced version of GPT launched by OpenAI till now. It is trained on Trillions of data and it has learnt to generate contents with a monsterous efficiency. Now, you will notice people using ChatGPT to come up with content ideas.\n",
        "\n",
        "P.S. This lecture's sequence is also something that I have came up with the help the ChatGPT.😄"
      ],
      "metadata": {
        "id": "zBK4Rp_HPhu7"
      }
    },
    {
      "cell_type": "markdown",
      "source": [
        "### Library Imports"
      ],
      "metadata": {
        "id": "8MyjGsETh6Gb"
      }
    },
    {
      "cell_type": "code",
      "source": [
        "import numpy as np\n",
        "import matplotlib.pyplot as plt\n",
        "import tensorflow as tf\n",
        "from tensorflow import keras"
      ],
      "metadata": {
        "id": "fenXe3e0B2A1"
      },
      "execution_count": 1,
      "outputs": []
    },
    {
      "cell_type": "markdown",
      "source": [
        "## Dataset Overview\n",
        "\n",
        "The de-facto method of using data for training or passing anything in neural network is through python numpy array which is a special type of containers that helps to efficiently compute in neural network for list type data.\n",
        "\n",
        "### Download the dataset\n",
        "\n",
        "In the next cell, we will download the dataset. The dataset is stored in `.npz.npy` format which means it is in numpy array format."
      ],
      "metadata": {
        "id": "7xVspUf9fuYu"
      }
    },
    {
      "cell_type": "code",
      "source": [
        "!wget \"https://github.com/Arup3201/deep-learning-materials/raw/main/datasets/dataset-1.zip\"\n",
        "!mkdir /content/datasets/\n",
        "!unzip /content/dataset-1.zip -d /content/datasets/\n",
        "!rm -r /content/dataset-1.zip"
      ],
      "metadata": {
        "colab": {
          "base_uri": "https://localhost:8080/"
        },
        "id": "9Re5VR3mModv",
        "outputId": "c45c8629-4255-40bc-e567-6fa9252b00e2"
      },
      "execution_count": 2,
      "outputs": [
        {
          "output_type": "stream",
          "name": "stdout",
          "text": [
            "--2023-08-23 10:14:21--  https://github.com/Arup3201/deep-learning-materials/raw/main/datasets/dataset-1.zip\n",
            "Resolving github.com (github.com)... 140.82.114.3\n",
            "Connecting to github.com (github.com)|140.82.114.3|:443... connected.\n",
            "HTTP request sent, awaiting response... 302 Found\n",
            "Location: https://raw.githubusercontent.com/Arup3201/deep-learning-materials/main/datasets/dataset-1.zip [following]\n",
            "--2023-08-23 10:14:22--  https://raw.githubusercontent.com/Arup3201/deep-learning-materials/main/datasets/dataset-1.zip\n",
            "Resolving raw.githubusercontent.com (raw.githubusercontent.com)... 185.199.108.133, 185.199.109.133, 185.199.110.133, ...\n",
            "Connecting to raw.githubusercontent.com (raw.githubusercontent.com)|185.199.108.133|:443... connected.\n",
            "HTTP request sent, awaiting response... 200 OK\n",
            "Length: 18604 (18K) [application/zip]\n",
            "Saving to: ‘dataset-1.zip’\n",
            "\n",
            "\rdataset-1.zip         0%[                    ]       0  --.-KB/s               \rdataset-1.zip       100%[===================>]  18.17K  --.-KB/s    in 0.001s  \n",
            "\n",
            "2023-08-23 10:14:22 (17.7 MB/s) - ‘dataset-1.zip’ saved [18604/18604]\n",
            "\n",
            "Archive:  /content/dataset-1.zip\n",
            "  inflating: /content/datasets/x.npy  \n",
            "  inflating: /content/datasets/y.npy  \n"
          ]
        }
      ]
    },
    {
      "cell_type": "markdown",
      "source": [
        "### Introduction to the dataset\n",
        "\n",
        "Inside `datasets` directory, we have 2 numpy array files in the format of `.npy`, one of `Xs.npy` and other is `Ys.npy`. Both can be loaded using `np.load(file_path)` method call.\n",
        "\n",
        "The dataset is a synthesised dataset, means I have created it by myself. It is not a real-world dataset. But, it will be the best example for understanding the working of neural networks."
      ],
      "metadata": {
        "id": "jeP8iSgVTdSu"
      }
    },
    {
      "cell_type": "code",
      "source": [
        "X = np.load(\"datasets/x.npy\")\n",
        "Y = np.load(\"datasets/y.npy\")"
      ],
      "metadata": {
        "id": "wDjp9g1xSiaA"
      },
      "execution_count": 3,
      "outputs": []
    },
    {
      "cell_type": "markdown",
      "source": [
        "The dataset contains 1200 examples. X and Y both are of shape `(1200,)` which means they are 1-D numpy array, as the shape contains 1 element inside it."
      ],
      "metadata": {
        "id": "GboglViueKQ0"
      }
    },
    {
      "cell_type": "code",
      "source": [
        "print(f\"Shape of the Inputs: {X.shape}\")\n",
        "print(f\"Shape of the Inputs: {Y.shape}\")"
      ],
      "metadata": {
        "colab": {
          "base_uri": "https://localhost:8080/"
        },
        "id": "mE9T_5bPdGfq",
        "outputId": "61962b48-8822-4de1-bbb4-d819c5dd777c"
      },
      "execution_count": 4,
      "outputs": [
        {
          "output_type": "stream",
          "name": "stdout",
          "text": [
            "Shape of the Inputs: (2000,)\n",
            "Shape of the Inputs: (2000,)\n"
          ]
        }
      ]
    },
    {
      "cell_type": "markdown",
      "source": [
        "### A simple dataset\n",
        "\n",
        "In this dataset, we have X which is just a single input and Y which is a single target value that our neural network model needs to learn.\n",
        "\n",
        "This makes it a simple dataset and working on it will make the concepts more clear as we already know that it follows a linear trend.\n",
        "\n",
        "Let's look at the first 10 examples of this dataset. The dataset has it's X values starting from -200 and going till +1000 values, and the Y is linearly mapped with the X. You can see the values in X and Y are in decimal which means the type of the data is float."
      ],
      "metadata": {
        "id": "u1bnY5nWee5T"
      }
    },
    {
      "cell_type": "code",
      "source": [
        "print(f\"First 10 elements from X and Y are:\")\n",
        "print(f\"X: {X[:10]}\")\n",
        "print(f\"X: {Y[:10]}\")"
      ],
      "metadata": {
        "colab": {
          "base_uri": "https://localhost:8080/"
        },
        "id": "2x-J3EAidJw4",
        "outputId": "c74839e6-5f82-46f8-bf32-7027f8065669"
      },
      "execution_count": 5,
      "outputs": [
        {
          "output_type": "stream",
          "name": "stdout",
          "text": [
            "First 10 elements from X and Y are:\n",
            "X: [-1000  -999  -998  -997  -996  -995  -994  -993  -992  -991]\n",
            "X: [-2278.10397617 -2289.36962153 -2294.1007712  -2284.18669437\n",
            " -2279.83158554 -2285.06895326 -2283.22988223 -2285.08360702\n",
            " -2273.45887278 -2279.99070144]\n"
          ]
        }
      ]
    },
    {
      "cell_type": "markdown",
      "source": [
        "### Few Examples from the dataset to visualize\n",
        "\n",
        "We will look at the above 10 examples and visualize them with the help of `matplot.pyplot`'s `plot` method. We can pass `X[:10]` and `Y[:10]` to it and then it will create a graph with it's x-axis representing the `X`s and y-axis representing the `Y`s."
      ],
      "metadata": {
        "id": "hUChVpBfkOro"
      }
    },
    {
      "cell_type": "code",
      "source": [
        "# Define the figure with a figure size\n",
        "plt.figure(figsize=(10, 6))\n",
        "\n",
        "# Plot the time series data\n",
        "plt.plot(X[:100], Y[:100], 'o')\n",
        "\n",
        "# Label the x-axis\n",
        "plt.xlabel(\"Xs\")\n",
        "\n",
        "# Label the y-axis\n",
        "plt.ylabel(\"Ys\")\n",
        "\n",
        "# Overlay a grid on the graph\n",
        "plt.grid(True)\n",
        "\n",
        "# Draw the graph on screen\n",
        "plt.show()"
      ],
      "metadata": {
        "colab": {
          "base_uri": "https://localhost:8080/",
          "height": 542
        },
        "id": "oB25jQVukuUO",
        "outputId": "6d09a59f-c997-4eeb-aec1-d798232b4c61"
      },
      "execution_count": 7,
      "outputs": [
        {
          "output_type": "display_data",
          "data": {
            "text/plain": [
              "<Figure size 1000x600 with 1 Axes>"
            ],
            "image/png": "[encoded data removed]"
          },
          "metadata": {}
        }
      ]
    },
    {
      "cell_type": "markdown",
      "source": [
        "## Building the Basic Neural Network"
      ],
      "metadata": {
        "id": "x2Cao7NvhyWC"
      }
    },
    {
      "cell_type": "markdown",
      "source": [
        "### Introducing the `tf.keras.Sequential` API\n",
        "Someone can make neural networks in many different approaches. There are a lot of libraries out there which can efficiently build a neural network with ease and then train it on dataset. Someone can also make it from scratch to customize with their problem in hand. But, in this notebook, we will look at the easiest one among. `Tensorflow` provides `keras` interface which can build neural networks in not more than 3 lines of code.\n",
        "The API we will use here is `tf.keras.Sequential` which enables us to stack one layer after another and build the network."
      ],
      "metadata": {
        "id": "dcUQ9WIxJ2hy"
      }
    },
    {
      "cell_type": "markdown",
      "source": [
        "### Introducing `tf.keras.layers` as the base of neural network\n",
        "The building blocks of a neural network are the `layers` present inside it. You can think of `layers` as a filter through which the data is going through and everytime the data passes one `layer`, the `layer` transforms the data into a more useful form that helps to map it to the answer. In this example, we are only using 1 unit so it might not be that much visible to understand what a layer does but in the upcoming examples it will become more clear."
      ],
      "metadata": {
        "id": "wpJPvRd9J5eW"
      }
    },
    {
      "cell_type": "markdown",
      "source": [
        "### Some details regarding `tf.keras.layers.Dense`\n",
        "`Dense` is the layer that we will be using for implementing the linear regression model. We can specify how many neurons we want in this layer with the `units` arguement present in `Dense` class. If there are 2 `Dense` layers connected with each other, we call it `fully-connected layer`."
      ],
      "metadata": {
        "id": "RIKGXrt8J8E9"
      }
    },
    {
      "cell_type": "markdown",
      "source": [
        "### The neural network architecture\n",
        "In this notebook file, we will look at some of the basic layers to make a neural network architecture. In this example, we will particularly look at 3 layers -\n",
        "1. `Input` layer: This is the layer through which the input values will pass. The `Input` layer takes the `shape` of the input. In this example, the inputs are just 1 so `shape=[1]`.\n",
        "2. `Dense` layer: The `Dense` layer takes `units` arguement which is simply how many neurons does we want in this layer. In this example, we want one output so `units=1`.\n",
        "3. `Activation` layer: The `Activation` layer which applies an activation function (in this case, it is `linear`) on the output of the previous layer (in this case, it is Dense layer with 1 unit)."
      ],
      "metadata": {
        "id": "FMDxgRmSJ_ov"
      }
    },
    {
      "cell_type": "markdown",
      "source": [
        "### `units=1` in `Dense` layer\n",
        "As we are implementing simple linear regression model, we just need one neuron. This one neuron has weight and bias (`W and b`) which will be learnt by the model from the training data. This makes it a very simple neural network which has only 2 parameters to learn from the training samples. It makes the training faster also because the complexity is very less."
      ],
      "metadata": {
        "id": "qLF5qTF4KCRK"
      }
    },
    {
      "cell_type": "markdown",
      "source": [
        "### Defining the model architecture with `tf.keras.Sequential`"
      ],
      "metadata": {
        "id": "DV5xuov2KEKJ"
      }
    },
    {
      "cell_type": "code",
      "source": [
        "model = keras.Sequential([\n",
        "    keras.layers.Input(shape=[1]),\n",
        "    keras.layers.Dense(units=1),\n",
        "    keras.layers.Activation('linear')\n",
        "    ])"
      ],
      "metadata": {
        "id": "yIdVS7LECJsI"
      },
      "execution_count": 29,
      "outputs": []
    },
    {
      "cell_type": "markdown",
      "source": [
        "## Compilation of the model"
      ],
      "metadata": {
        "id": "ivRL-Q9Zhunt"
      }
    },
    {
      "cell_type": "markdown",
      "source": [
        "### A look into the parts of compilation\n",
        "Once the model architecture is defined, we need to pick three more things as part of the _compilation_ step.\n",
        "* `optimizer`: The mechanism through which the model will update itself based on the training data it sees, so as to improve it's performance.\n",
        "* `loss`: How the model will be able to measure it's performance on the training data and thus how it will be able to steer itself to the right direction of improvement.\n",
        "* `metrics`: This is a list of all the measures that I want to see at the time of training. This is to monitor the success of the model. The model does not optimize for the metrics. As such, metrics do not need to be differentiable."
      ],
      "metadata": {
        "id": "vRWKwXV0DmwF"
      }
    },
    {
      "cell_type": "markdown",
      "source": [
        "### A look into how model is using loss and optimizer in it's training process\n",
        "Neural network at first don't know what is the relation between the X and Y, but it tries to guess that, which is intially really bad. But, as it goes through the examples and calculates the output with its intially guessed rules, it finds out that those outputs are not exactly same as the output provided in the examples, with the help of the `loss` function. So, it improves it's guess with the help of `optimizer` and again starts guessing with new model parameter values(`w` and `b`). The logic is, every time the guess should be better than the previous one, which is the job of optimizer.\n",
        "\n",
        "> As it approaches towards the 100% accuracy or zero loss we use the word `convergence`.\n",
        "Remember one point here, `compile(optimizer='...', loss='...', metrics=[...])` method does not tell the network to start guessing, instead it tells the network how the network is going to find about the performance(loss) and how it is going to improve(optimizer)."
      ],
      "metadata": {
        "id": "oHiqimQtJHAt"
      }
    },
    {
      "cell_type": "markdown",
      "source": [
        "### `mse` as loss function\n",
        "`mse` stands for `mean squared error`. As the name of the loss function says, it is the mean of the squared errors. If the output of the neural network is `̂y` and the target value is `y` then the error would be `y - ̂y`, then take it's sequare and calculate the mean over all examples in the training dataset. So, the equation looks like- $$MSE = \\frac{1}{m}\\sum_{i=1}^{m}(y^{(i)} - ŷ^{(i)})^2$$\n",
        "The loss function we are using here is the MSE loss. The way to pass it to `compile` method is by passing `loss='mse'` to it."
      ],
      "metadata": {
        "id": "Bl4TJmnQJMgF"
      }
    },
    {
      "cell_type": "markdown",
      "source": [
        "### `sgd` as optimizer\n",
        "`sgd` stands for `Stochastic Gradient Descent`. As we discussed earlier, optimizer is the brain of deep neural networks because it actually helps the network to learn new things and adapt itself according to the problem at hand. Gradient Deccent is the algorithm that actually is behind this learning process. There are different types of gradient descent but the one we are talking about here is the stochastic gradient descent.\n",
        "Simply put, it is all about whether to learn from the training data after we have finished processing all data or immediately processing one data. Stochastic gradient descent is the later one. In SGD, we pick randomely one data point from the set and process it. After finding the performance, we start improving the model."
      ],
      "metadata": {
        "id": "lyTViy45JRxE"
      }
    },
    {
      "cell_type": "markdown",
      "source": [
        "### `mae` as metrics\n",
        "`mae` stands for `mean absolute error`. It is very much similar type of measure like mae but the difference is instead of taking the square of the error, we take the absolute value of the error which makes it always positve.\n",
        "$$MAE = \\frac{1}{m}\\sum_{i=1}^{m}|y - ŷ|$$"
      ],
      "metadata": {
        "id": "6-1sTztKJTo0"
      }
    },
    {
      "cell_type": "code",
      "source": [
        "model.compile(optimizer='sgd',\n",
        "              loss='mse',\n",
        "              metrics=['mae'])"
      ],
      "metadata": {
        "id": "OdJ1b5gfCRuB"
      },
      "execution_count": 30,
      "outputs": []
    },
    {
      "cell_type": "markdown",
      "source": [
        "## Training the model with `fit` method\n",
        "\n",
        "### Preparing the data for training the model\n",
        "We will break the dataset into 2 parts, one for training and other one for testing.\n",
        "\n",
        "Steps we are going to take are,\n",
        "1. Randomize the data\n",
        "2. Take 70% data for training and other 30% will be used for testing the model performance."
      ],
      "metadata": {
        "id": "nbpxGNzoiA0T"
      }
    },
    {
      "cell_type": "code",
      "source": [
        "X.shape[0]"
      ],
      "metadata": {
        "colab": {
          "base_uri": "https://localhost:8080/"
        },
        "id": "Ie2yXhW66i4U",
        "outputId": "ca212e2f-d638-4b43-e3a3-309bd7b504bc"
      },
      "execution_count": 8,
      "outputs": [
        {
          "output_type": "execute_result",
          "data": {
            "text/plain": [
              "2000"
            ]
          },
          "metadata": {},
          "execution_count": 8
        }
      ]
    },
    {
      "cell_type": "code",
      "source": [
        "# Take random indices that are valid for the dataset\n",
        "np.random.seed(0)\n",
        "inds = np.arange(X.shape[0])\n",
        "np.random.shuffle(inds)\n",
        "\n",
        "train_size = int(0.7 * X.shape[0])\n",
        "test_size = X.shape[0] - train_size\n",
        "\n",
        "# training data\n",
        "X_train = X[inds[:train_size]] / 100.0 # Normalize for better model training\n",
        "y_train = Y[inds[:train_size]] / 100.0\n",
        "\n",
        "# testing data\n",
        "X_test = X[inds[train_size:]]\n",
        "y_test = Y[inds[train_size:]]\n",
        "\n",
        "print(f\"First 5 values of X for training: {X_train[:5]}\")\n",
        "print(f\"First 5 values of y for training: {y_train[:5]}\\n\\n\")\n",
        "\n",
        "print(f\"First 5 values of X for training: {X_test[:5]}\")\n",
        "print(f\"First 5 values of y for training: {y_test[:5]}\")"
      ],
      "metadata": {
        "colab": {
          "base_uri": "https://localhost:8080/"
        },
        "id": "CzRqn0uw5xGv",
        "outputId": "3f831504-82ba-4b4a-fdb0-44af6f512007"
      },
      "execution_count": 28,
      "outputs": [
        {
          "output_type": "stream",
          "name": "stdout",
          "text": [
            "First 5 values of X for training: [-5.95  1.9   1.32 -2.69  7.54]\n",
            "First 5 values of y for training: [-13.6231545    4.56876609   2.91350731  -6.15662191  17.22682095]\n",
            "\n",
            "\n",
            "First 5 values of X for training: [ 242 -415  413  430  389]\n",
            "First 5 values of y for training: [ 554.53070072 -943.19449406  960.90012706 1006.83153151  897.8065644 ]\n"
          ]
        }
      ]
    },
    {
      "cell_type": "markdown",
      "source": [
        "### How `fit` method works\n",
        "The `training` takes place in this `.fit` method. Here, the things that happens are-\n",
        "* Make a guess\n",
        "* Find out how good or how bad the guess is using `loss`\n",
        "* Use `optimizer` to find out better rules that gives better guess\n",
        "* Repeat this for `epochs` times.\n",
        "\n",
        "The `fit` method is essentially trying to find out how it can fit the `X` values to the given `Y` values, which is same as saying learning the relation between `X` and `Y`."
      ],
      "metadata": {
        "id": "Uyd7APSd5Nqw"
      }
    },
    {
      "cell_type": "code",
      "source": [
        "history = model.fit(X_train, y_train, epochs=100, batch_size=32)"
      ],
      "metadata": {
        "id": "P4h9tGrTC5eM",
        "colab": {
          "base_uri": "https://localhost:8080/"
        },
        "outputId": "ad78c9b5-829d-4fea-eb4e-b20292474d78"
      },
      "execution_count": 31,
      "outputs": [
        {
          "output_type": "stream",
          "name": "stdout",
          "text": [
            "Epoch 1/100\n",
            "44/44 [==============================] - 0s 1ms/step - loss: 12.2856 - mae: 0.8204\n",
            "Epoch 2/100\n",
            "44/44 [==============================] - 0s 945us/step - loss: 0.0100 - mae: 0.0797\n",
            "Epoch 3/100\n",
            "44/44 [==============================] - 0s 913us/step - loss: 0.0097 - mae: 0.0785\n",
            "Epoch 4/100\n",
            "44/44 [==============================] - 0s 911us/step - loss: 0.0097 - mae: 0.0790\n",
            "Epoch 5/100\n",
            "44/44 [==============================] - 0s 928us/step - loss: 0.0098 - mae: 0.0794\n",
            "Epoch 6/100\n",
            "44/44 [==============================] - 0s 937us/step - loss: 0.0099 - mae: 0.0790\n",
            "Epoch 7/100\n",
            "44/44 [==============================] - 0s 913us/step - loss: 0.0098 - mae: 0.0791\n",
            "Epoch 8/100\n",
            "44/44 [==============================] - 0s 899us/step - loss: 0.0098 - mae: 0.0792\n",
            "Epoch 9/100\n",
            "44/44 [==============================] - 0s 895us/step - loss: 0.0097 - mae: 0.0789\n",
            "Epoch 10/100\n",
            "44/44 [==============================] - 0s 868us/step - loss: 0.0098 - mae: 0.0791\n",
            "Epoch 11/100\n",
            "44/44 [==============================] - 0s 888us/step - loss: 0.0098 - mae: 0.0788\n",
            "Epoch 12/100\n",
            "44/44 [==============================] - 0s 914us/step - loss: 0.0098 - mae: 0.0790\n",
            "Epoch 13/100\n",
            "44/44 [==============================] - 0s 1ms/step - loss: 0.0097 - mae: 0.0787\n",
            "Epoch 14/100\n",
            "44/44 [==============================] - 0s 994us/step - loss: 0.0097 - mae: 0.0787\n",
            "Epoch 15/100\n",
            "44/44 [==============================] - 0s 1ms/step - loss: 0.0097 - mae: 0.0790\n",
            "Epoch 16/100\n",
            "44/44 [==============================] - 0s 935us/step - loss: 0.0096 - mae: 0.0782\n",
            "Epoch 17/100\n",
            "44/44 [==============================] - 0s 897us/step - loss: 0.0097 - mae: 0.0789\n",
            "Epoch 18/100\n",
            "44/44 [==============================] - 0s 932us/step - loss: 0.0097 - mae: 0.0788\n",
            "Epoch 19/100\n",
            "44/44 [==============================] - 0s 993us/step - loss: 0.0098 - mae: 0.0787\n",
            "Epoch 20/100\n",
            "44/44 [==============================] - 0s 1ms/step - loss: 0.0097 - mae: 0.0788\n",
            "Epoch 21/100\n",
            "44/44 [==============================] - 0s 1ms/step - loss: 0.0098 - mae: 0.0790\n",
            "Epoch 22/100\n",
            "44/44 [==============================] - 0s 970us/step - loss: 0.0098 - mae: 0.0790\n",
            "Epoch 23/100\n",
            "44/44 [==============================] - 0s 907us/step - loss: 0.0098 - mae: 0.0790\n",
            "Epoch 24/100\n",
            "44/44 [==============================] - 0s 937us/step - loss: 0.0097 - mae: 0.0788\n",
            "Epoch 25/100\n",
            "44/44 [==============================] - 0s 1ms/step - loss: 0.0097 - mae: 0.0786\n",
            "Epoch 26/100\n",
            "44/44 [==============================] - 0s 880us/step - loss: 0.0098 - mae: 0.0795\n",
            "Epoch 27/100\n",
            "44/44 [==============================] - 0s 879us/step - loss: 0.0098 - mae: 0.0788\n",
            "Epoch 28/100\n",
            "44/44 [==============================] - 0s 868us/step - loss: 0.0097 - mae: 0.0788\n",
            "Epoch 29/100\n",
            "44/44 [==============================] - 0s 892us/step - loss: 0.0097 - mae: 0.0785\n",
            "Epoch 30/100\n",
            "44/44 [==============================] - 0s 883us/step - loss: 0.0098 - mae: 0.0789\n",
            "Epoch 31/100\n",
            "44/44 [==============================] - 0s 976us/step - loss: 0.0098 - mae: 0.0790\n",
            "Epoch 32/100\n",
            "44/44 [==============================] - 0s 860us/step - loss: 0.0097 - mae: 0.0787\n",
            "Epoch 33/100\n",
            "44/44 [==============================] - 0s 1ms/step - loss: 0.0098 - mae: 0.0790\n",
            "Epoch 34/100\n",
            "44/44 [==============================] - 0s 985us/step - loss: 0.0097 - mae: 0.0788\n",
            "Epoch 35/100\n",
            "44/44 [==============================] - 0s 930us/step - loss: 0.0097 - mae: 0.0788\n",
            "Epoch 36/100\n",
            "44/44 [==============================] - 0s 861us/step - loss: 0.0097 - mae: 0.0782\n",
            "Epoch 37/100\n",
            "44/44 [==============================] - 0s 838us/step - loss: 0.0097 - mae: 0.0787\n",
            "Epoch 38/100\n",
            "44/44 [==============================] - 0s 901us/step - loss: 0.0097 - mae: 0.0785\n",
            "Epoch 39/100\n",
            "44/44 [==============================] - 0s 932us/step - loss: 0.0099 - mae: 0.0796\n",
            "Epoch 40/100\n",
            "44/44 [==============================] - 0s 962us/step - loss: 0.0099 - mae: 0.0791\n",
            "Epoch 41/100\n",
            "44/44 [==============================] - 0s 1ms/step - loss: 0.0099 - mae: 0.0794\n",
            "Epoch 42/100\n",
            "44/44 [==============================] - 0s 889us/step - loss: 0.0097 - mae: 0.0785\n",
            "Epoch 43/100\n",
            "44/44 [==============================] - 0s 1ms/step - loss: 0.0097 - mae: 0.0786\n",
            "Epoch 44/100\n",
            "44/44 [==============================] - 0s 1ms/step - loss: 0.0097 - mae: 0.0789\n",
            "Epoch 45/100\n",
            "44/44 [==============================] - 0s 1ms/step - loss: 0.0097 - mae: 0.0785\n",
            "Epoch 46/100\n",
            "44/44 [==============================] - 0s 1ms/step - loss: 0.0098 - mae: 0.0793\n",
            "Epoch 47/100\n",
            "44/44 [==============================] - 0s 1ms/step - loss: 0.0098 - mae: 0.0789\n",
            "Epoch 48/100\n",
            "44/44 [==============================] - 0s 1ms/step - loss: 0.0097 - mae: 0.0789\n",
            "Epoch 49/100\n",
            "44/44 [==============================] - 0s 1ms/step - loss: 0.0098 - mae: 0.0792\n",
            "Epoch 50/100\n",
            "44/44 [==============================] - 0s 1ms/step - loss: 0.0098 - mae: 0.0789\n",
            "Epoch 51/100\n",
            "44/44 [==============================] - 0s 1ms/step - loss: 0.0098 - mae: 0.0789\n",
            "Epoch 52/100\n",
            "44/44 [==============================] - 0s 1ms/step - loss: 0.0098 - mae: 0.0788\n",
            "Epoch 53/100\n",
            "44/44 [==============================] - 0s 1ms/step - loss: 0.0097 - mae: 0.0786\n",
            "Epoch 54/100\n",
            "44/44 [==============================] - 0s 1ms/step - loss: 0.0098 - mae: 0.0788\n",
            "Epoch 55/100\n",
            "44/44 [==============================] - 0s 1ms/step - loss: 0.0099 - mae: 0.0792\n",
            "Epoch 56/100\n",
            "44/44 [==============================] - 0s 2ms/step - loss: 0.0098 - mae: 0.0787\n",
            "Epoch 57/100\n",
            "44/44 [==============================] - 0s 2ms/step - loss: 0.0097 - mae: 0.0786\n",
            "Epoch 58/100\n",
            "44/44 [==============================] - 0s 1ms/step - loss: 0.0097 - mae: 0.0789\n",
            "Epoch 59/100\n",
            "44/44 [==============================] - 0s 1ms/step - loss: 0.0098 - mae: 0.0788\n",
            "Epoch 60/100\n",
            "44/44 [==============================] - 0s 1ms/step - loss: 0.0098 - mae: 0.0791\n",
            "Epoch 61/100\n",
            "44/44 [==============================] - 0s 1ms/step - loss: 0.0098 - mae: 0.0789\n",
            "Epoch 62/100\n",
            "44/44 [==============================] - 0s 1ms/step - loss: 0.0098 - mae: 0.0794\n",
            "Epoch 63/100\n",
            "44/44 [==============================] - 0s 1ms/step - loss: 0.0097 - mae: 0.0791\n",
            "Epoch 64/100\n",
            "44/44 [==============================] - 0s 1ms/step - loss: 0.0097 - mae: 0.0786\n",
            "Epoch 65/100\n",
            "44/44 [==============================] - 0s 1ms/step - loss: 0.0099 - mae: 0.0793\n",
            "Epoch 66/100\n",
            "44/44 [==============================] - 0s 1ms/step - loss: 0.0097 - mae: 0.0785\n",
            "Epoch 67/100\n",
            "44/44 [==============================] - 0s 2ms/step - loss: 0.0097 - mae: 0.0787\n",
            "Epoch 68/100\n",
            "44/44 [==============================] - 0s 1ms/step - loss: 0.0097 - mae: 0.0791\n",
            "Epoch 69/100\n",
            "44/44 [==============================] - 0s 1ms/step - loss: 0.0097 - mae: 0.0788\n",
            "Epoch 70/100\n",
            "44/44 [==============================] - 0s 1ms/step - loss: 0.0097 - mae: 0.0790\n",
            "Epoch 71/100\n",
            "44/44 [==============================] - 0s 1ms/step - loss: 0.0098 - mae: 0.0788\n",
            "Epoch 72/100\n",
            "44/44 [==============================] - 0s 1ms/step - loss: 0.0097 - mae: 0.0788\n",
            "Epoch 73/100\n",
            "44/44 [==============================] - 0s 1ms/step - loss: 0.0098 - mae: 0.0791\n",
            "Epoch 74/100\n",
            "44/44 [==============================] - 0s 954us/step - loss: 0.0097 - mae: 0.0785\n",
            "Epoch 75/100\n",
            "44/44 [==============================] - 0s 1ms/step - loss: 0.0098 - mae: 0.0790\n",
            "Epoch 76/100\n",
            "44/44 [==============================] - 0s 947us/step - loss: 0.0098 - mae: 0.0791\n",
            "Epoch 77/100\n",
            "44/44 [==============================] - 0s 1ms/step - loss: 0.0097 - mae: 0.0790\n",
            "Epoch 78/100\n",
            "44/44 [==============================] - 0s 1ms/step - loss: 0.0097 - mae: 0.0788\n",
            "Epoch 79/100\n",
            "44/44 [==============================] - 0s 993us/step - loss: 0.0098 - mae: 0.0793\n",
            "Epoch 80/100\n",
            "44/44 [==============================] - 0s 1ms/step - loss: 0.0098 - mae: 0.0794\n",
            "Epoch 81/100\n",
            "44/44 [==============================] - 0s 1ms/step - loss: 0.0097 - mae: 0.0790\n",
            "Epoch 82/100\n",
            "44/44 [==============================] - 0s 1ms/step - loss: 0.0098 - mae: 0.0789\n",
            "Epoch 83/100\n",
            "44/44 [==============================] - 0s 1ms/step - loss: 0.0098 - mae: 0.0792\n",
            "Epoch 84/100\n",
            "44/44 [==============================] - 0s 1ms/step - loss: 0.0098 - mae: 0.0789\n",
            "Epoch 85/100\n",
            "44/44 [==============================] - 0s 870us/step - loss: 0.0098 - mae: 0.0790\n",
            "Epoch 86/100\n",
            "44/44 [==============================] - 0s 895us/step - loss: 0.0098 - mae: 0.0788\n",
            "Epoch 87/100\n",
            "44/44 [==============================] - 0s 871us/step - loss: 0.0097 - mae: 0.0790\n",
            "Epoch 88/100\n",
            "44/44 [==============================] - 0s 988us/step - loss: 0.0097 - mae: 0.0787\n",
            "Epoch 89/100\n",
            "44/44 [==============================] - 0s 903us/step - loss: 0.0098 - mae: 0.0791\n",
            "Epoch 90/100\n",
            "44/44 [==============================] - 0s 898us/step - loss: 0.0097 - mae: 0.0787\n",
            "Epoch 91/100\n",
            "44/44 [==============================] - 0s 949us/step - loss: 0.0098 - mae: 0.0791\n",
            "Epoch 92/100\n",
            "44/44 [==============================] - 0s 905us/step - loss: 0.0096 - mae: 0.0786\n",
            "Epoch 93/100\n",
            "44/44 [==============================] - 0s 1ms/step - loss: 0.0097 - mae: 0.0790\n",
            "Epoch 94/100\n",
            "44/44 [==============================] - 0s 950us/step - loss: 0.0098 - mae: 0.0789\n",
            "Epoch 95/100\n",
            "44/44 [==============================] - 0s 997us/step - loss: 0.0097 - mae: 0.0787\n",
            "Epoch 96/100\n",
            "44/44 [==============================] - 0s 907us/step - loss: 0.0097 - mae: 0.0788\n",
            "Epoch 97/100\n",
            "44/44 [==============================] - 0s 937us/step - loss: 0.0097 - mae: 0.0790\n",
            "Epoch 98/100\n",
            "44/44 [==============================] - 0s 898us/step - loss: 0.0097 - mae: 0.0789\n",
            "Epoch 99/100\n",
            "44/44 [==============================] - 0s 905us/step - loss: 0.0099 - mae: 0.0794\n",
            "Epoch 100/100\n",
            "44/44 [==============================] - 0s 924us/step - loss: 0.0097 - mae: 0.0787\n"
          ]
        }
      ]
    },
    {
      "cell_type": "markdown",
      "source": [
        "### Let's visualize the improvement of the model in each epoch"
      ],
      "metadata": {
        "id": "VXs4ccO8rD13"
      }
    },
    {
      "cell_type": "code",
      "source": [
        "# Define the figure with a figure size\n",
        "plt.figure(figsize=(10, 6))\n",
        "\n",
        "# Create the epochs sequence\n",
        "epochs = np.arange(100)\n",
        "\n",
        "# Plot the Xs and Ys for first 10 values\n",
        "plt.plot(epochs, history.history['mae'], 'r-', label='MSE')\n",
        "plt.plot(epochs, history.history['loss'], 'b-', label='Loss')\n",
        "\n",
        "\n",
        "# Show the legends for actual y and predicted y\n",
        "plt.legend()\n",
        "\n",
        "# Overlay a grid on the graph\n",
        "plt.grid(True)\n",
        "\n",
        "# Draw the graph on screen\n",
        "plt.show()"
      ],
      "metadata": {
        "id": "ei6LgPiLrKxq",
        "outputId": "c8060f1b-fc86-4763-ad00-283d63077112",
        "colab": {
          "base_uri": "https://localhost:8080/",
          "height": 522
        }
      },
      "execution_count": 32,
      "outputs": [
        {
          "output_type": "display_data",
          "data": {
            "text/plain": [
              "<Figure size 1000x600 with 1 Axes>"
            ],
            "image/png": "[encoded data removed]"
          },
          "metadata": {}
        }
      ]
    },
    {
      "cell_type": "code",
      "source": [
        "# Define the figure with a figure size\n",
        "fig, ax = plt.subplots(nrows=1, ncols=2, figsize=(10, 6))\n",
        "\n",
        "# Create the epochs sequence\n",
        "epochs = np.arange(100)\n",
        "\n",
        "# Plot the Xs and Ys for first 10 values\n",
        "ax[0].plot(epochs, history.history['mae'], 'r-', label=\"MAE\")\n",
        "ax[0].plot(epochs, history.history['loss'], 'b-', label='Loss')\n",
        "\n",
        "ax[1].plot(epochs, history.history['mae'], 'r-', label=\"MAE\")\n",
        "ax[1].plot(epochs, history.history['loss'], 'b-', label='Loss')\n",
        "\n",
        "ax[1].set_xlim(0, 10)\n",
        "\n",
        "# Overlay a grid on the graph\n",
        "ax[0].grid(True)\n",
        "ax[1].grid(True)\n",
        "\n",
        "# Draw the graph on screen\n",
        "plt.show()"
      ],
      "metadata": {
        "id": "yzHWnIzer9IZ",
        "outputId": "997e3633-fe04-43e1-bbb6-2a575058af36",
        "colab": {
          "base_uri": "https://localhost:8080/",
          "height": 522
        }
      },
      "execution_count": 33,
      "outputs": [
        {
          "output_type": "display_data",
          "data": {
            "text/plain": [
              "<Figure size 1000x600 with 2 Axes>"
            ],
            "image/png": "[encoded data removed]"
          },
          "metadata": {}
        }
      ]
    },
    {
      "cell_type": "markdown",
      "source": [
        "### Visualizing the training data points\n",
        "\n",
        "Plot the target values predicted by the model versus the actual target values and see how good or bad the model is right now. The 2 lines are in 2 different colours.\n",
        "\n",
        "Model Predicted Values: `Red`\n",
        "Actual Target Values: `Blue`"
      ],
      "metadata": {
        "id": "MDBnq28Zn1Y_"
      }
    },
    {
      "cell_type": "code",
      "source": [
        "# Define the figure with a figure size\n",
        "plt.figure(figsize=(10, 6))\n",
        "\n",
        "# Plot the Xs and Ys for first 10 values\n",
        "plt.plot(X_train, y_train, 'ro', label='Actual Y')\n",
        "\n",
        "\n",
        "# Get the model's predicted values for the first 10 Xs\n",
        "y_pred = model.predict([X_train])\n",
        "\n",
        "# Plot the Xs and Model Predicted Ys\n",
        "plt.plot(X_train, y_pred, 'b-', label=\"Predicted Ys\")\n",
        "\n",
        "# Title of the plot\n",
        "plt.title(\"Model prediction on training data\")\n",
        "\n",
        "# Label the x-axis\n",
        "plt.xlabel(\"Xs\")\n",
        "\n",
        "# Label the y-axis\n",
        "plt.ylabel(\"Ys\")\n",
        "\n",
        "# Show the legends for actual y and predicted y\n",
        "plt.legend()\n",
        "\n",
        "# Overlay a grid on the graph\n",
        "plt.grid(True)\n",
        "\n",
        "# Draw the graph on screen\n",
        "plt.show()"
      ],
      "metadata": {
        "id": "cpwa_MP3oO02",
        "outputId": "7286751a-c571-4dd2-dcea-38ee67546d8c",
        "colab": {
          "base_uri": "https://localhost:8080/",
          "height": 581
        }
      },
      "execution_count": 42,
      "outputs": [
        {
          "output_type": "stream",
          "name": "stdout",
          "text": [
            "44/44 [==============================] - 0s 727us/step\n"
          ]
        },
        {
          "output_type": "display_data",
          "data": {
            "text/plain": [
              "<Figure size 1000x600 with 1 Axes>"
            ],
            "image/png": "[encoded data removed]"
          },
          "metadata": {}
        }
      ]
    },
    {
      "cell_type": "markdown",
      "source": [
        "😳 It exactly overlaps with the actual values of `Y`. How good our model has become on the training set. But, that is how it is on training set, we don't know what will happen for unseen data."
      ],
      "metadata": {
        "id": "4UQoEyMPqWR3"
      }
    },
    {
      "cell_type": "markdown",
      "source": [
        "### Predicting for new unseen values with `predict` method"
      ],
      "metadata": {
        "id": "PThWd2UiiGTS"
      }
    },
    {
      "cell_type": "markdown",
      "source": [
        "Now that the model is trained with the data, it is time to see what it outputs on data which it has not previously seen, this step is also known as `testing`. It has not seen 10.0, so let's check what it outputs when we pass 10.0 as the input using the `predict` method."
      ],
      "metadata": {
        "id": "f_CklvMcMi9E"
      }
    },
    {
      "cell_type": "code",
      "source": [
        "model.predict([10.0])"
      ],
      "metadata": {
        "colab": {
          "base_uri": "https://localhost:8080/"
        },
        "id": "E_8lOBLnC_KX",
        "outputId": "b5d48e1d-4009-48e9-ee76-ca84b91b0e7c"
      },
      "execution_count": 36,
      "outputs": [
        {
          "output_type": "stream",
          "name": "stdout",
          "text": [
            "1/1 [==============================] - 0s 44ms/step\n"
          ]
        },
        {
          "output_type": "execute_result",
          "data": {
            "text/plain": [
              "array([[23.036741]], dtype=float32)"
            ]
          },
          "metadata": {},
          "execution_count": 36
        }
      ]
    },
    {
      "cell_type": "code",
      "source": [
        "# Define the figure with a figure size\n",
        "plt.figure(figsize=(10, 6))\n",
        "\n",
        "# Plot the Xs and Ys for first 10 values\n",
        "plt.plot(X_test, y_test, 'ro', label='Actual Y')\n",
        "\n",
        "\n",
        "# Get the model's predicted values for the first 10 Xs\n",
        "y_pred = model.predict([X_test])\n",
        "\n",
        "# Plot the Xs and Model Predicted Ys\n",
        "plt.plot(X_test, y_pred, 'b-', label=\"Predicted Ys\")\n",
        "\n",
        "# Title of the plot\n",
        "plt.title(\"Model prediction on test data\")\n",
        "\n",
        "# Label the x-axis\n",
        "plt.xlabel(\"Xs\")\n",
        "\n",
        "# Label the y-axis\n",
        "plt.ylabel(\"Ys\")\n",
        "\n",
        "# Show the legends for actual y and predicted y\n",
        "plt.legend()\n",
        "\n",
        "# Overlay a grid on the graph\n",
        "plt.grid(True)\n",
        "\n",
        "# Draw the graph on screen\n",
        "plt.show()"
      ],
      "metadata": {
        "colab": {
          "base_uri": "https://localhost:8080/",
          "height": 581
        },
        "id": "kzXaaa0X-Zx2",
        "outputId": "c7e227a7-945b-48df-884e-55d34a12ea2a"
      },
      "execution_count": 41,
      "outputs": [
        {
          "output_type": "stream",
          "name": "stdout",
          "text": [
            "19/19 [==============================] - 0s 874us/step\n"
          ]
        },
        {
          "output_type": "display_data",
          "data": {
            "text/plain": [
              "<Figure size 1000x600 with 1 Axes>"
            ],
            "image/png": "[encoded data removed]"
          },
          "metadata": {}
        }
      ]
    },
    {
      "cell_type": "markdown",
      "source": [
        "After learning from the examples, this model is able to predict the result for 10.0\n",
        "\n",
        "Although the result is not exactly 19.0 but very close to 19.0\n",
        "\n",
        "The reason is, our data is very small from which the model learnt so it was not able to learn everything and just from the 6 data points model will not have that much accuracy and confidence."
      ],
      "metadata": {
        "id": "gV4kvcQHDFVD"
      }
    },
    {
      "cell_type": "markdown",
      "source": [
        "### Looking into the values of the weights with `get_weights` method"
      ],
      "metadata": {
        "id": "EvE1NMxeiN_C"
      }
    },
    {
      "cell_type": "code",
      "source": [
        "model.get_weights()"
      ],
      "metadata": {
        "colab": {
          "base_uri": "https://localhost:8080/"
        },
        "id": "LdBT9m0sDp3i",
        "outputId": "80fd81ef-e29e-4d95-c2c0-5c67fd23e478"
      },
      "execution_count": 38,
      "outputs": [
        {
          "output_type": "execute_result",
          "data": {
            "text/plain": [
              "[array([[2.2972884]], dtype=float32), array([0.06385633], dtype=float32)]"
            ]
          },
          "metadata": {},
          "execution_count": 38
        }
      ]
    },
    {
      "cell_type": "markdown",
      "source": [
        "From the result, you can see the coeffecient of X is very close to 2 and the bias value of close to -1."
      ],
      "metadata": {
        "id": "NClwAEyDD8F2"
      }
    }
  ]
}