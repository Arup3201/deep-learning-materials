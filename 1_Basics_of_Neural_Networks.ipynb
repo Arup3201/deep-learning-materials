{
  "nbformat": 4,
  "nbformat_minor": 0,
  "metadata": {
    "colab": {
      "provenance": [],
      "authorship_tag": "ABX9TyMW7xpoVfOBn+CnSThIiVsq",
      "include_colab_link": true
    },
    "kernelspec": {
      "name": "python3",
      "display_name": "Python 3"
    },
    "language_info": {
      "name": "python"
    }
  },
  "cells": [
    {
      "cell_type": "markdown",
      "metadata": {
        "id": "view-in-github",
        "colab_type": "text"
      },
      "source": [
        "<a href=\"https://colab.research.google.com/github/Arup3201/deep-learning-materials/blob/main/1_Basics_of_Neural_Networks.ipynb\" target=\"_parent\"><img src=\"https://colab.research.google.com/assets/colab-badge.svg\" alt=\"Open In Colab\"/></a>"
      ]
    },
    {
      "cell_type": "markdown",
      "source": [
        "### Neural Networks with a simple example"
      ],
      "metadata": {
        "id": "VOqTffGYEmTj"
      }
    },
    {
      "cell_type": "markdown",
      "source": [
        "*Neural Network is a a type of system which is able to find out the relation between it's input and output.*\n",
        "\n",
        "For instance:\n",
        "\n",
        "* $X => -2, -1, 0, 1, 2, 3$\n",
        "* $Y => -5, -3, -1, 1, 3, 5$\n",
        "\n",
        "**Find the relation between X and Y. Try to derive the Y from it's corresponding X value. E.g. How can -5 be generated from -2?**\n",
        "\n",
        "Take some time to think...\n",
        "\n",
        "\n",
        "If you guessed the relation to be $Y=2X-1$ then congratulations!!\n",
        "\n",
        "That's right!! You are now able to what neural network does the things...\n",
        "\n",
        "Let's try to think how we can come up with this equation..."
      ],
      "metadata": {
        "id": "zBK4Rp_HPhu7"
      }
    },
    {
      "cell_type": "code",
      "source": [
        "import numpy as np\n",
        "import tensorflow as tf\n",
        "from tensorflow import keras"
      ],
      "metadata": {
        "id": "fenXe3e0B2A1"
      },
      "execution_count": 1,
      "outputs": []
    },
    {
      "cell_type": "code",
      "source": [
        "model = keras.Sequential([keras.layers.Dense(units=1, input_shape=[1])])"
      ],
      "metadata": {
        "id": "yIdVS7LECJsI"
      },
      "execution_count": null,
      "outputs": []
    },
    {
      "cell_type": "code",
      "source": [
        "model.compile(optimizer='sgd', loss='mean_squared_error')"
      ],
      "metadata": {
        "id": "OdJ1b5gfCRuB"
      },
      "execution_count": null,
      "outputs": []
    },
    {
      "cell_type": "code",
      "source": [
        "X = np.array([-2, -1, 0, 1, 2, 3], dtype=float)\n",
        "Y = np.array([-5, -3, -1, 1, 3, 5], dtype=float)\n",
        "\n",
        "# Y = 2X - 1"
      ],
      "metadata": {
        "id": "KsO_MxzlCXyl"
      },
      "execution_count": null,
      "outputs": []
    },
    {
      "cell_type": "code",
      "source": [
        "model.fit(X, Y, epochs=100)"
      ],
      "metadata": {
        "id": "P4h9tGrTC5eM"
      },
      "execution_count": null,
      "outputs": []
    },
    {
      "cell_type": "code",
      "source": [
        "model.predict([10.0])"
      ],
      "metadata": {
        "colab": {
          "base_uri": "https://localhost:8080/"
        },
        "id": "E_8lOBLnC_KX",
        "outputId": "d5cabba2-e38b-4d5f-a78a-9949d6d152b6"
      },
      "execution_count": null,
      "outputs": [
        {
          "output_type": "stream",
          "name": "stdout",
          "text": [
            "1/1 [==============================] - 0s 49ms/step\n"
          ]
        },
        {
          "output_type": "execute_result",
          "data": {
            "text/plain": [
              "array([[18.721066]], dtype=float32)"
            ]
          },
          "metadata": {},
          "execution_count": 10
        }
      ]
    },
    {
      "cell_type": "markdown",
      "source": [
        "After learning from the examples, this model is able to predict the result for 10.0\n",
        "\n",
        "Although the result is not exactly 19.0 but very close to 19.0\n",
        "\n",
        "The reason is, our data is very small from which the model learnt so it was not able to learn everything and just from the 6 data points model will not have that much accuracy and confidence."
      ],
      "metadata": {
        "id": "gV4kvcQHDFVD"
      }
    },
    {
      "cell_type": "code",
      "source": [
        "model.get_weights()"
      ],
      "metadata": {
        "colab": {
          "base_uri": "https://localhost:8080/"
        },
        "id": "LdBT9m0sDp3i",
        "outputId": "4549cc05-e77b-437e-d78c-9694442bf38b"
      },
      "execution_count": null,
      "outputs": [
        {
          "output_type": "execute_result",
          "data": {
            "text/plain": [
              "[array([[1.9502501]], dtype=float32), array([-0.78143775], dtype=float32)]"
            ]
          },
          "metadata": {},
          "execution_count": 11
        }
      ]
    },
    {
      "cell_type": "markdown",
      "source": [
        "From the result, you can see the coeffecient of X is very close to 2 and the bias value of close to -1."
      ],
      "metadata": {
        "id": "NClwAEyDD8F2"
      }
    },
    {
      "cell_type": "markdown",
      "source": [
        "### Another example to understand neural networks"
      ],
      "metadata": {
        "id": "_46ESkHkErGR"
      }
    },
    {
      "cell_type": "code",
      "source": [
        "model = keras.Sequential([keras.layers.Dense(units=1, input_shape=[1])])\n",
        "model.compile(optimizer='sgd', loss='mean_squared_error')"
      ],
      "metadata": {
        "id": "fl7nAt-bFyzr"
      },
      "execution_count": null,
      "outputs": []
    },
    {
      "cell_type": "code",
      "source": [
        "xs = np.array([1, 2, 3, 4, 5, 6, 7, 8, 9, 10], dtype=float)\n",
        "ys = np.array([100, 150, 200, 250, 300, 350, 400, 450, 500, 550])\n",
        "\n",
        "# Y = 50X+ 50"
      ],
      "metadata": {
        "id": "iK0wapeTEEh5"
      },
      "execution_count": null,
      "outputs": []
    },
    {
      "cell_type": "code",
      "source": [
        "model.fit(xs, ys, epochs=100)"
      ],
      "metadata": {
        "id": "TZPc8gRDGEdu"
      },
      "execution_count": null,
      "outputs": []
    },
    {
      "cell_type": "code",
      "source": [
        "model.predict([15])"
      ],
      "metadata": {
        "id": "CVq3mva_GJg3",
        "outputId": "cb5d3785-28bd-45d4-aa96-36e6776c5c61",
        "colab": {
          "base_uri": "https://localhost:8080/"
        }
      },
      "execution_count": null,
      "outputs": [
        {
          "output_type": "stream",
          "name": "stdout",
          "text": [
            "1/1 [==============================] - 0s 79ms/step\n"
          ]
        },
        {
          "output_type": "execute_result",
          "data": {
            "text/plain": [
              "array([[831.8894]], dtype=float32)"
            ]
          },
          "metadata": {},
          "execution_count": 15
        }
      ]
    },
    {
      "cell_type": "code",
      "source": [
        "model.get_weights()"
      ],
      "metadata": {
        "id": "79EGFl9rGPXG",
        "outputId": "e943e873-18d0-4f4f-d196-0573745805d8",
        "colab": {
          "base_uri": "https://localhost:8080/"
        }
      },
      "execution_count": null,
      "outputs": [
        {
          "output_type": "execute_result",
          "data": {
            "text/plain": [
              "[array([[53.96724]], dtype=float32), array([22.380783], dtype=float32)]"
            ]
          },
          "metadata": {},
          "execution_count": 16
        }
      ]
    },
    {
      "cell_type": "markdown",
      "source": [
        "### Neural Network with 2 inputs"
      ],
      "metadata": {
        "id": "ttGRZYV1opMA"
      }
    },
    {
      "cell_type": "code",
      "source": [
        "x1s = np.array([1, 2, 4, 6, 8, 10, 12], dtype=float)\n",
        "x2s = np.array([2, 3, 4, 5, 6, 7, 8], dtype=float)\n",
        "print(f\"x1s shape={x1s.shape}\")\n",
        "print(f\"x2s shape={x2s.shape}\")\n",
        "\n",
        "ys = np.array([ -6.5, -11.6, -14.7, -17.8, -20.9, -24. , -27.1], dtype=float)\n",
        "print(f\"ys shape={ys.shape}\")\n",
        "\n",
        "# Y = 2*X1 - 7.1*X2 + 5.7"
      ],
      "metadata": {
        "id": "eu-whIgVotdZ",
        "outputId": "00b8d246-a8d9-4be3-84c6-279c0ab6ea2e",
        "colab": {
          "base_uri": "https://localhost:8080/"
        }
      },
      "execution_count": 26,
      "outputs": [
        {
          "output_type": "stream",
          "name": "stdout",
          "text": [
            "x1s shape=(7,)\n",
            "x2s shape=(7,)\n",
            "ys shape=(7,)\n"
          ]
        }
      ]
    },
    {
      "cell_type": "code",
      "source": [
        "model = keras.Sequential([keras.layers.Dense(units=1, input_shape=[2])])\n",
        "model.compile(optimizer='sgd', loss='mean_squared_error')"
      ],
      "metadata": {
        "id": "ct57yP4EpYFO"
      },
      "execution_count": 20,
      "outputs": []
    },
    {
      "cell_type": "code",
      "source": [
        "X = np.concatenate([x1s[:, np.newaxis], x2s[:, np.newaxis]], axis=-1)\n",
        "\n",
        "X.shape"
      ],
      "metadata": {
        "id": "SysIPvOup3Bw",
        "outputId": "1fd4c93a-5db6-4c50-be78-5084ddce559d",
        "colab": {
          "base_uri": "https://localhost:8080/"
        }
      },
      "execution_count": 17,
      "outputs": [
        {
          "output_type": "execute_result",
          "data": {
            "text/plain": [
              "(7, 2)"
            ]
          },
          "metadata": {},
          "execution_count": 17
        }
      ]
    },
    {
      "cell_type": "code",
      "source": [
        "X"
      ],
      "metadata": {
        "id": "CHtV94-RrlW5",
        "outputId": "fed243ee-98b3-4adc-9dd6-f01d25ccd741",
        "colab": {
          "base_uri": "https://localhost:8080/"
        }
      },
      "execution_count": 19,
      "outputs": [
        {
          "output_type": "execute_result",
          "data": {
            "text/plain": [
              "array([[ 1.,  2.],\n",
              "       [ 2.,  3.],\n",
              "       [ 4.,  4.],\n",
              "       [ 6.,  5.],\n",
              "       [ 8.,  6.],\n",
              "       [10.,  7.],\n",
              "       [12.,  8.]])"
            ]
          },
          "metadata": {},
          "execution_count": 19
        }
      ]
    },
    {
      "cell_type": "code",
      "source": [
        "model.fit(X, ys, epochs=100)"
      ],
      "metadata": {
        "id": "3j5cjbc4pnM_"
      },
      "execution_count": null,
      "outputs": []
    },
    {
      "cell_type": "code",
      "source": [
        "model.predict([[10, 11]])"
      ],
      "metadata": {
        "id": "475h8Cdyruay",
        "outputId": "4892e819-d0a8-47f4-a4d5-ad193de10820",
        "colab": {
          "base_uri": "https://localhost:8080/"
        }
      },
      "execution_count": 22,
      "outputs": [
        {
          "output_type": "stream",
          "name": "stdout",
          "text": [
            "1/1 [==============================] - 0s 97ms/step\n"
          ]
        },
        {
          "output_type": "execute_result",
          "data": {
            "text/plain": [
              "array([[-36.595467]], dtype=float32)"
            ]
          },
          "metadata": {},
          "execution_count": 22
        }
      ]
    },
    {
      "cell_type": "code",
      "source": [
        "model.get_weights()"
      ],
      "metadata": {
        "id": "xCJY_d-6r1oX",
        "outputId": "2536f69f-33e6-4c86-d1f3-bea6b2ebf99f",
        "colab": {
          "base_uri": "https://localhost:8080/"
        }
      },
      "execution_count": 23,
      "outputs": [
        {
          "output_type": "execute_result",
          "data": {
            "text/plain": [
              "[array([[-0.1745129],\n",
              "        [-3.0893433]], dtype=float32),\n",
              " array([-0.86755973], dtype=float32)]"
            ]
          },
          "metadata": {},
          "execution_count": 23
        }
      ]
    }
  ]
}