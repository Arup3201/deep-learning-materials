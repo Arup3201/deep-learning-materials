{
  "nbformat": 4,
  "nbformat_minor": 0,
  "metadata": {
    "colab": {
      "provenance": [],
      "authorship_tag": "ABX9TyMVyZWong1CqdhEJonrdviD",
      "include_colab_link": true
    },
    "kernelspec": {
      "name": "python3",
      "display_name": "Python 3"
    },
    "language_info": {
      "name": "python"
    }
  },
  "cells": [
    {
      "cell_type": "markdown",
      "metadata": {
        "id": "view-in-github",
        "colab_type": "text"
      },
      "source": [
        "<a href=\"https://colab.research.google.com/github/Arup3201/deep-learning-materials/blob/main/1_Basics_of_Neural_Networks.ipynb\" target=\"_parent\"><img src=\"https://colab.research.google.com/assets/colab-badge.svg\" alt=\"Open In Colab\"/></a>"
      ]
    },
    {
      "cell_type": "markdown",
      "source": [
        "*Neural Network is a a type of system which is able to find out the relation between it's input and output.*\n",
        "\n",
        "For instance:\n",
        "\n",
        "* $X => -2, -1, 0, 1, 2$\n",
        "* $Y => -5, -3, -1, 3, 5$\n",
        "\n",
        "**Find the relation between X and Y. Try to derive the Y from it's corresponding X value. E.g. How can -5 be generated from -2?**\n",
        "\n",
        "Take some time to think...\n",
        "\n",
        "\n",
        "If you guessed the relation to be $Y=2X-1$ then congratulations!!\n",
        "\n",
        "That's right!! You are now able to what neural network does the things...\n",
        "\n",
        "Let's try to think how we can come up with this equation..."
      ],
      "metadata": {
        "id": "zBK4Rp_HPhu7"
      }
    },
    {
      "cell_type": "code",
      "source": [],
      "metadata": {
        "id": "fenXe3e0B2A1"
      },
      "execution_count": null,
      "outputs": []
    }
  ]
}