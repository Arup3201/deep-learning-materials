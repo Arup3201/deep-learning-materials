{
  "nbformat": 4,
  "nbformat_minor": 0,
  "metadata": {
    "colab": {
      "provenance": [],
      "authorship_tag": "ABX9TyOKosUo/1HjQcGos9yCjErR",
      "include_colab_link": true
    },
    "kernelspec": {
      "name": "python3",
      "display_name": "Python 3"
    },
    "language_info": {
      "name": "python"
    }
  },
  "cells": [
    {
      "cell_type": "markdown",
      "metadata": {
        "id": "view-in-github",
        "colab_type": "text"
      },
      "source": [
        "<a href=\"https://colab.research.google.com/github/Arup3201/deep-learning-materials/blob/main/1_Basics_of_Neural_Networks.ipynb\" target=\"_parent\"><img src=\"https://colab.research.google.com/assets/colab-badge.svg\" alt=\"Open In Colab\"/></a>"
      ]
    },
    {
      "cell_type": "markdown",
      "source": [
        "$${Artificial\\ Neural\\ Network} = {Artificial} + {Neural\\ Network}$$\n",
        "\n",
        "----------------------------------------------------\n",
        "\n",
        "*ANN was developed keeping in mind the way the human brain works.*\n",
        "\n",
        "\n",
        "### **An Example to understand neural network working**\n",
        "Let's imagine you have a really smart friend named Sarah. Sarah loves to play basketball, and she wants to become the best player she can be. However, she's not perfect at shooting baskets. Sometimes she misses, and sometimes she makes a basket.\n",
        "\n",
        "To help Sarah improve her skills, she decides to learn from her mistakes. She starts by shooting a lot of baskets and keeping track of whether she makes them or misses them. She then analyzes her shooting technique and tries to figure out what she's doing wrong when she misses.\n",
        "\n",
        "Sarah's brain works a bit like a computer. It has a network of interconnected neurons, just like our brain. When she shoots a basket, her brain sends signals through these neurons to process the information and decide if she made the shot or missed it. But here's the interesting part: Sarah's brain can adjust the strength of the signals based on whether she made the basket or not.\n",
        "\n",
        "For example, if Sarah misses a shot, her brain might reduce the strength of certain signals that led to the incorrect movement or aim. On the other hand, if she makes a shot, her brain might increase the strength of the signals that resulted in the correct movement or aim. By doing this, her brain is \"learning\" from her mistakes and successes.\n",
        "\n",
        "Over time, as Sarah keeps practicing and adjusting her shooting technique based on the feedback from her brain, she gets better and better at making baskets. Her brain's signals become more accurate and efficient, making it easier for her to shoot accurately.\n",
        "\n",
        "Similarly, artificial neural networks (like our brain) are designed to learn from examples. They are composed of interconnected \"neurons\" that process information. These networks can be trained using lots of data, similar to how Sarah practiced shooting many baskets. The network adjusts the strengths of its connections, just like Sarah's brain adjusted the strength of its signals, based on whether it made accurate predictions or not.\n",
        "\n",
        "By training an artificial neural network with examples and adjusting its connections, we can teach it to recognize patterns, make predictions, and solve complex problems. It's like teaching a computer to learn and improve, similar to how Sarah taught her brain to improve her basketball skills."
      ],
      "metadata": {
        "id": "zBK4Rp_HPhu7"
      }
    }
  ]
}