{
  "nbformat": 4,
  "nbformat_minor": 0,
  "metadata": {
    "colab": {
      "provenance": [],
      "authorship_tag": "ABX9TyMykZZeJn2RM8J66yZXwAMl",
      "include_colab_link": true
    },
    "kernelspec": {
      "name": "python3",
      "display_name": "Python 3"
    },
    "language_info": {
      "name": "python"
    }
  },
  "cells": [
    {
      "cell_type": "markdown",
      "metadata": {
        "id": "view-in-github",
        "colab_type": "text"
      },
      "source": [
        "<a href=\"https://colab.research.google.com/github/Arup3201/deep-learning-materials/blob/main/1_Basics_of_Neural_Networks.ipynb\" target=\"_parent\"><img src=\"https://colab.research.google.com/assets/colab-badge.svg\" alt=\"Open In Colab\"/></a>"
      ]
    },
    {
      "cell_type": "markdown",
      "source": [
        "$${Artificial\\ Neural\\ Network} = {Artificial} + {Neural\\ Network}$$\n",
        "\n",
        "----------------------------------------------------\n",
        "\n",
        "*ANN was developed keeping in mind the way the human brain works.*\n",
        "\n",
        "\n",
        "### **How Human Brain Works?**\n",
        "\n",
        "* The human brain has a biological neural network which has billions of interconnections. As the brain learns, these connections are either formed, changed or removed.\n",
        "\n",
        "\n",
        "\n"
      ],
      "metadata": {
        "id": "zBK4Rp_HPhu7"
      }
    },
    {
      "cell_type": "code",
      "execution_count": null,
      "metadata": {
        "id": "vxGMT5VPOkTS"
      },
      "outputs": [],
      "source": []
    }
  ]
}