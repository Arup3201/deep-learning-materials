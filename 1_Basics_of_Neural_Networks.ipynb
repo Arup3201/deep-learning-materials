{
  "nbformat": 4,
  "nbformat_minor": 0,
  "metadata": {
    "colab": {
      "provenance": [],
      "authorship_tag": "ABX9TyPNLykSuzKezokDUUJ1Irzf",
      "include_colab_link": true
    },
    "kernelspec": {
      "name": "python3",
      "display_name": "Python 3"
    },
    "language_info": {
      "name": "python"
    }
  },
  "cells": [
    {
      "cell_type": "markdown",
      "metadata": {
        "id": "view-in-github",
        "colab_type": "text"
      },
      "source": [
        "<a href=\"https://colab.research.google.com/github/Arup3201/deep-learning-materials/blob/main/1_Basics_of_Neural_Networks.ipynb\" target=\"_parent\"><img src=\"https://colab.research.google.com/assets/colab-badge.svg\" alt=\"Open In Colab\"/></a>"
      ]
    },
    {
      "cell_type": "markdown",
      "source": [
        "* **Step 1: Introduction to the Task**\n",
        "  * Explain the goal of the first lecture: to build a basic neural network that performs a task similar to linear regression.\n",
        "  * Briefly recap the concept of linear regression and how it predicts a continuous output.\n",
        "  * Highlight the advantages of using neural networks for more complex tasks.\n",
        "\n",
        "* **Step 2: Dataset Overview**\n",
        "  * Introduce the dataset that will be used for the demonstration.\n",
        "  * Emphasize that it's a simple dataset with just one input feature and one output target.\n",
        "  * Show a few examples from the dataset for visualization.\n",
        "\n",
        "* **Step 3: Building the Basic Neural Network**\n",
        "  * Introduce the keras.layers.Dense layer and its function in creating a neural network.\n",
        "  * Explain the number of neurons in the input layer (1) and output layer (1) for this task.\n",
        "  * Mention the use of a single hidden layer for simplicity.\n",
        "  * Show how to define the model architecture using TensorFlow Keras.\n",
        "\n",
        "* **Step 4: Compiling the Model**\n",
        "  * Explain the concept of model compilation and its components (optimizer, loss function, metrics).\n",
        "  * Use Mean Squared Error (MSE) as the loss function for regression.\n",
        "  * Choose an optimizer such as Stochastic Gradient Descent (SGD).\n",
        "  * Mention Mean Absolute Error (MAE) as a metric for evaluation.\n",
        "\n",
        "* **Step 5: Training the Model**\n",
        "  * Prepare the data for training (input features and target values).\n",
        "  * Demonstrate the training process using the model.fit method.\n",
        "  * Show how to specify the number of epochs and batch size.\n",
        "  * Monitor the training progress and discuss how the loss decreases over epochs.\n",
        "\n",
        "* **Step 6: Visualization**\n",
        "  * Visualize the training data points on a scatter plot.\n",
        "  * Plot the predicted line (output of the neural network) on the same scatter plot.\n",
        "  * Visually show how the neural network's output line evolves with training.\n",
        "\n",
        "* **Step 7: Model Evaluation**\n",
        "  * Calculate the Mean Squared Error and Mean Absolute Error on the training data.\n",
        "  * Discuss the model's performance and how it compares to a traditional linear regression model.\n",
        "\n",
        "* **Step 8: Making Predictions**\n",
        "  * Use the trained model to make predictions on new data points.\n",
        "  * Show how to input a new data point and get the predicted output.\n",
        "\n",
        "* **Step 9: Conclusion and Next Steps**\n",
        "  * Recap the key points covered in the first lecture.\n",
        "  * Emphasize that they have built their first neural network successfully.\n",
        "  * Encourage students to explore more complex architectures and tasks in future lectures."
      ],
      "metadata": {
        "id": "ktCV7C_WL71s"
      }
    },
    {
      "cell_type": "markdown",
      "source": [
        "## Understanding Neural Networks with Examples"
      ],
      "metadata": {
        "id": "DcoSnlEYuZin"
      }
    },
    {
      "cell_type": "markdown",
      "source": [
        "### Deep Learning in Nutshell\n",
        "\n",
        "Programming has been the bread and butter for many developers since the discovery of computers.\n",
        "\n",
        "Whenever developers needed to make any computer applications, they will usually break down the compononents of the applications and solve those compononents as individual problems and code their rules to solve that particular problem.\n",
        "\n",
        "Let's say for example, we are to create a game for playing with ball. The ball can jump from down to up and whenever it hits the blocks at the top the blocks disappear and we get points. But, everytime when the ball comes down after hitting one or more blocks we need to catch that ball with a small black surface. If we fail to catch the ball then we will lose.\n",
        "\n",
        "![Ball Game](https://www.heroconcept.com/wp-content/uploads/2018/09/breakout.jpg)\n",
        "\n",
        "So, we break down the problem of creating this game into different problems and let's say we focus our attention to the problem of hitting the bricks at the top and controlling the balls movements after that.\n",
        "\n",
        "```c\n",
        "if(ball.collide(brick)) {\n",
        "  removeBrick();\n",
        "  ball.dx = -1*(ball.dx);\n",
        "  ball.dy = -1*(ball.dy);\n",
        "}\n",
        "```\n",
        "\n",
        "BUT, the question comes when we try to solve the problems which are more general and common but can't be easily expressed as rules by us.\n",
        "\n",
        "You are asked to make an application that can detect whether a person is walking/running/biking/hiking?\n",
        "\n",
        "![Problem with deep learning](https://i.postimg.cc/NMH9vhGv/problems-with-deep-learning-images.png)\n",
        "\n",
        "What will you do?\n",
        "\n",
        "Maybe for walking/runnung/hiking you can say\n",
        "```c\n",
        "if(speed < 4) {\n",
        "  status=walking;\n",
        "}\n",
        "else if(speed < 10) {\n",
        "  status=running;\n",
        "}\n",
        "else {\n",
        "  status=biking;\n",
        "}\n",
        "```\n",
        "\n",
        "But what about hiking?\n",
        "\n",
        "How can you define it?\n",
        "\n",
        "Even though walking/running/biking is not as simple as just mentioning their speed. Different person has different speeds and other factors like someone going up and down while running, how that looks like... all these things play an important role in determining their state.\n",
        "\n",
        "That is where Machine Learning comes into picture.\n",
        "\n",
        "Machine Learning is essentially doing the same thing but changing the same old way of writing code by yourself to define those rules.\n",
        "\n",
        "When we talk about traditional programming, we had to define how walking looks like, how running looks like, how biking looks like etc...\n",
        "\n",
        "![Deep Learning in Nutshell](https://i.postimg.cc/Bn4x5vSL/Deep-Learning-in-Nutshell.png)\n",
        "\n",
        "Now, instead of you specifying how walking/running/biking/hiking look like (e.g. `speed < 4` or things like that), you provide how they looks like, when a person walks what it looks like, when a person runs what it looks like, along with the labels that labels those examples like if a person is walking then the label will be WALKING, if a person is running then label will be RUNNING and so on. And from that what we will get is the rules that define those states. *This is machine learning in nutshell*.\n",
        "\n",
        "For example, when the machine learning system learns about all these states, maybe it will notice that when a person runs their feet will have a certain distance range, or when a person is biking their will be something like a cycle in the image, all this tiny tiny details will be taken into account by the system itself and it will automatically find out those rules/conditions when learning from the data and answers provided to it in this case they are images of people walking/running/biking/hiking and their labels.\n",
        "\n",
        "In this notebook, we will look into some examples where we will create a neural network using tensorflow that will be able to learn the rules provided the data and answers to them. **Neural network is just an advance version of machine learning which is called deep learning.**"
      ],
      "metadata": {
        "id": "4vAuObnkUPNa"
      }
    },
    {
      "cell_type": "markdown",
      "source": [
        "### Neural Networks with a simple example"
      ],
      "metadata": {
        "id": "VOqTffGYEmTj"
      }
    },
    {
      "cell_type": "markdown",
      "source": [
        "*Neural Network is a a type of system which is able to find out the relation between it's input and output.*\n",
        "\n",
        "For instance:\n",
        "\n",
        "* $X => -2, -1, 0, 1, 2, 3$\n",
        "* $Y => -5, -3, -1, 1, 3, 5$\n",
        "\n",
        "**Find the relation between X and Y. Try to derive the Y from it's corresponding X value. E.g. How can -5 be generated from -2?**\n",
        "\n",
        "Take some time to think...\n",
        "\n",
        "\n",
        "If you guessed the relation to be $Y=2X-1$ then congratulations!!\n",
        "\n",
        "That's right!! You are now able to what neural network does the things...\n",
        "\n",
        "Let's try to think how we can come up with this equation..."
      ],
      "metadata": {
        "id": "zBK4Rp_HPhu7"
      }
    },
    {
      "cell_type": "code",
      "source": [
        "import numpy as np\n",
        "import tensorflow as tf\n",
        "from tensorflow import keras"
      ],
      "metadata": {
        "id": "fenXe3e0B2A1"
      },
      "execution_count": null,
      "outputs": []
    },
    {
      "cell_type": "markdown",
      "source": [
        "In this code block, we are creating a neural network using the `keras` API present in `tensorflow`. I am using `Sequential` class which defines sequence of layers and providing one `Dense` layer inside it that has one neuron.\n",
        "\n",
        "The building blocks of a neural network are the `layers` present inside it. You can think of `layers` as a filter through which the data is going through and everytime the data passes one `layer`, the `layer` transforms the data into a more useful form that helps to map it to the answer. In this example, we are only using 1 unit so it might not be that much visible to understand what a layer does but in the upcoming examples it will become more clear.\n",
        "\n",
        "The layer, I am using here is `tf.keras.layers.Dense`. It has `units` arguements through which I can specify how many neurons I want in this layer. There is another arguement which you will notice very frequently `input_shape`, it is mostly used in the first layer of a neural network which is treated as the input layer and that is why we need to specify what is the shape of the input. Here, everytime neural network takes one `x` so the shape is `[1]`."
      ],
      "metadata": {
        "id": "PZM_GdBaC6HV"
      }
    },
    {
      "cell_type": "code",
      "source": [
        "model = keras.Sequential([keras.layers.Dense(units=1, input_shape=[1])])"
      ],
      "metadata": {
        "id": "yIdVS7LECJsI"
      },
      "execution_count": null,
      "outputs": []
    },
    {
      "cell_type": "markdown",
      "source": [
        "To make the model ready for training, we need to pick three more things as part of the _compilation_ step.\n",
        "* `optimizer`: The mechanism through which the model will update itself based on the training data it sees, so as to improve it's performance.\n",
        "* `loss`: How the model will be able to measure it's performance on the training data and thus how it will be able to steer itself to the right direction of improvement.\n",
        "* `metrics`: This is a list of all the measures that I want to see when the model is training or testing. In short, whatever I will include in the list of metrics, I will be able to monitor them as the training and testing goes. Remember here, whatever we include in the metrics will just be printed in the screen, they will neither be improved nor they will be used for the model's improvement just because we mentioned them here.\n",
        "\n",
        "**A look into how model is using loss and optimizer in it;s training process**:\n",
        "Neural network at first don't know what is the relation between the X and Y, but it tries to guess that, which is intially really bad. But, as it goes through the examples and calculates the output with its intially guessed rules, it finds out that those outputs are not exactly same as the output provided in the examples, with the help of the `loss` function. So, it improves it's guess with the help of `optimizer` and again starts guessing with new model parameter values(`w` and `b`). The logic is, every time the guess should be better than the previous one, which is the job of optimizer.\n",
        "\n",
        "As it approached towards the 100% accuracy or zero loss we use the word `convergence`.\n",
        "\n",
        "Remember one point here, `compile(optimizer='...', loss='...', metrics=[...])` method does not tell the network to start guessing, instead it tells the network how the network is going to find about the performance(loss) and how it is going to improve(optimizer)."
      ],
      "metadata": {
        "id": "vRWKwXV0DmwF"
      }
    },
    {
      "cell_type": "code",
      "source": [
        "model.compile(optimizer='sgd',\n",
        "              loss='mean_squared_error',\n",
        "              metrics=['acc'])"
      ],
      "metadata": {
        "id": "OdJ1b5gfCRuB"
      },
      "execution_count": null,
      "outputs": []
    },
    {
      "cell_type": "markdown",
      "source": [
        "The de-facto method of using data for training or passing anything in neural network is through python numpy array which is a special type of containers that helps to efficiently compute in neural network for list type data."
      ],
      "metadata": {
        "id": "7xVspUf9fuYu"
      }
    },
    {
      "cell_type": "code",
      "source": [
        "X = np.array([-2, -1, 0, 1, 2, 3], dtype=float)\n",
        "Y = np.array([-5, -3, -1, 1, 3, 5], dtype=float)\n",
        "\n",
        "# Y = 2X - 1"
      ],
      "metadata": {
        "id": "KsO_MxzlCXyl"
      },
      "execution_count": null,
      "outputs": []
    },
    {
      "cell_type": "markdown",
      "source": [
        "The `training` takes place in this `.fit` method. Here, the things that happens are-\n",
        "* Make a guess\n",
        "* Find out how good or how bad the guess is using `loss`\n",
        "* Use `optimizer` to find out better rules that gives better guess\n",
        "* Repeat this for `epochs` times.\n",
        "\n",
        "The `fit` method is essentially trying to find out how it can fit the `X` values to the given `Y` values, which is same as saying learning the relation between `X` and `Y`."
      ],
      "metadata": {
        "id": "hSQ_EVwNLuMV"
      }
    },
    {
      "cell_type": "code",
      "source": [
        "model.fit(X, Y, epochs=100)"
      ],
      "metadata": {
        "id": "P4h9tGrTC5eM"
      },
      "execution_count": null,
      "outputs": []
    },
    {
      "cell_type": "markdown",
      "source": [
        "Now that the model is trained with the data, it is time to see what it outputs on data which it has not previously seen, this step is also known as `testing`. It has not seen 10.0, so let's check what it outputs when we pass 10.0 as the input using the `predict` method."
      ],
      "metadata": {
        "id": "f_CklvMcMi9E"
      }
    },
    {
      "cell_type": "code",
      "source": [
        "model.predict([10.0])"
      ],
      "metadata": {
        "colab": {
          "base_uri": "https://localhost:8080/"
        },
        "id": "E_8lOBLnC_KX",
        "outputId": "21ae5413-0681-4fd7-8456-771b48e0ca93"
      },
      "execution_count": null,
      "outputs": [
        {
          "output_type": "stream",
          "name": "stdout",
          "text": [
            "1/1 [==============================] - 0s 96ms/step\n"
          ]
        },
        {
          "output_type": "execute_result",
          "data": {
            "text/plain": [
              "array([[18.763657]], dtype=float32)"
            ]
          },
          "metadata": {},
          "execution_count": 6
        }
      ]
    },
    {
      "cell_type": "markdown",
      "source": [
        "After learning from the examples, this model is able to predict the result for 10.0\n",
        "\n",
        "Although the result is not exactly 19.0 but very close to 19.0\n",
        "\n",
        "The reason is, our data is very small from which the model learnt so it was not able to learn everything and just from the 6 data points model will not have that much accuracy and confidence."
      ],
      "metadata": {
        "id": "gV4kvcQHDFVD"
      }
    },
    {
      "cell_type": "code",
      "source": [
        "model.get_weights()"
      ],
      "metadata": {
        "colab": {
          "base_uri": "https://localhost:8080/"
        },
        "id": "LdBT9m0sDp3i",
        "outputId": "e98b792b-397f-499e-d806-ee8ea12af1f4"
      },
      "execution_count": null,
      "outputs": [
        {
          "output_type": "execute_result",
          "data": {
            "text/plain": [
              "[array([[1.9572951]], dtype=float32), array([-0.8092934], dtype=float32)]"
            ]
          },
          "metadata": {},
          "execution_count": 7
        }
      ]
    },
    {
      "cell_type": "markdown",
      "source": [
        "From the result, you can see the coeffecient of X is very close to 2 and the bias value of close to -1."
      ],
      "metadata": {
        "id": "NClwAEyDD8F2"
      }
    },
    {
      "cell_type": "markdown",
      "source": [
        "### Another example to understand neural networks"
      ],
      "metadata": {
        "id": "_46ESkHkErGR"
      }
    },
    {
      "cell_type": "code",
      "source": [
        "model = keras.Sequential([keras.layers.Dense(units=1, input_shape=[1])])\n",
        "model.compile(optimizer='sgd', loss='mean_squared_error')"
      ],
      "metadata": {
        "id": "fl7nAt-bFyzr"
      },
      "execution_count": null,
      "outputs": []
    },
    {
      "cell_type": "code",
      "source": [
        "X = np.array([1, 2, 3, 4, 5, 6, 7, 8, 9, 10], dtype=float)\n",
        "Y = np.array([100, 150, 200, 250, 300, 350, 400, 450, 500, 550])\n",
        "\n",
        "# Y = 50X+ 50"
      ],
      "metadata": {
        "id": "iK0wapeTEEh5"
      },
      "execution_count": null,
      "outputs": []
    },
    {
      "cell_type": "code",
      "source": [
        "# Pre-process the Y to keep the X and Y in similar range\n",
        "Y = Y / 100"
      ],
      "metadata": {
        "id": "P4f7le5xgOF6"
      },
      "execution_count": null,
      "outputs": []
    },
    {
      "cell_type": "code",
      "source": [
        "model.fit(X, Y, epochs=100)"
      ],
      "metadata": {
        "id": "TZPc8gRDGEdu"
      },
      "execution_count": null,
      "outputs": []
    },
    {
      "cell_type": "code",
      "source": [
        "model.predict([15])"
      ],
      "metadata": {
        "id": "CVq3mva_GJg3",
        "outputId": "56911132-3bfb-4690-e903-81152c17161b",
        "colab": {
          "base_uri": "https://localhost:8080/"
        }
      },
      "execution_count": null,
      "outputs": [
        {
          "output_type": "stream",
          "name": "stdout",
          "text": [
            "1/1 [==============================] - 0s 66ms/step\n"
          ]
        },
        {
          "output_type": "execute_result",
          "data": {
            "text/plain": [
              "array([[831.6896]], dtype=float32)"
            ]
          },
          "metadata": {},
          "execution_count": 11
        }
      ]
    },
    {
      "cell_type": "code",
      "source": [
        "15*50+50"
      ],
      "metadata": {
        "id": "wKNwjQiPeM4o",
        "outputId": "b8fd26f3-9bc5-4f10-d04b-a062c02b0938",
        "colab": {
          "base_uri": "https://localhost:8080/"
        }
      },
      "execution_count": null,
      "outputs": [
        {
          "output_type": "execute_result",
          "data": {
            "text/plain": [
              "800"
            ]
          },
          "metadata": {},
          "execution_count": 12
        }
      ]
    },
    {
      "cell_type": "code",
      "source": [
        "model.get_weights()"
      ],
      "metadata": {
        "id": "79EGFl9rGPXG",
        "outputId": "e97644b4-1e54-4e68-cd80-fa3393573e3f",
        "colab": {
          "base_uri": "https://localhost:8080/"
        }
      },
      "execution_count": null,
      "outputs": [
        {
          "output_type": "execute_result",
          "data": {
            "text/plain": [
              "[array([[53.942387]], dtype=float32), array([22.553799], dtype=float32)]"
            ]
          },
          "metadata": {},
          "execution_count": 13
        }
      ]
    }
  ]
}