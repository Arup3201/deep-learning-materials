{
  "nbformat": 4,
  "nbformat_minor": 0,
  "metadata": {
    "colab": {
      "provenance": [],
      "authorship_tag": "ABX9TyN8v0VZM1VcTJuz5fMkBgo+",
      "include_colab_link": true
    },
    "kernelspec": {
      "name": "python3",
      "display_name": "Python 3"
    },
    "language_info": {
      "name": "python"
    }
  },
  "cells": [
    {
      "cell_type": "markdown",
      "metadata": {
        "id": "view-in-github",
        "colab_type": "text"
      },
      "source": [
        "<a href=\"https://colab.research.google.com/github/Arup3201/deep-learning-materials/blob/main/1_Basics_of_Neural_Networks.ipynb\" target=\"_parent\"><img src=\"https://colab.research.google.com/assets/colab-badge.svg\" alt=\"Open In Colab\"/></a>"
      ]
    },
    {
      "cell_type": "markdown",
      "source": [
        "$${Artificial\\ Neural\\ Network} = {Artificial} + {Neural\\ Network}$$\n",
        "\n",
        "----------------------------------------------------\n",
        "\n",
        "*ANN was developed keeping in mind the way the human brain works.*\n",
        "\n",
        "\n",
        "### **An Example to understand neural network working**\n",
        "Imagine you have a friend named Tim who loves playing video games. Tim wants to become really good at a particular game, so he decides to learn from his mistakes and improve his performance over time.\n",
        "\n",
        "Now, let's compare Tim's learning process to how artificial neural networks work:\n",
        "\n",
        "* Neurons in the Brain: In our brains, we have many tiny cells called neurons. Neurons are connected to each other through networks, and they work together to process and transmit information. When we learn something new, certain connections between neurons become stronger, while others weaken.\n",
        "\n",
        "* Artificial Neurons in ANNs: In artificial neural networks, we have artificial neurons, also called perceptrons or nodes. These nodes are organized in layers, and each node is connected to several other nodes in the adjacent layers. Similar to real neurons, these connections have weights that determine their strength.\n",
        "\n",
        "* Input and Output: When Tim plays a game, he takes in information from the game environment, such as what he sees on the screen. This information serves as input to his brain, and his brain processes it to make decisions on how to play the game.\n"
      ],
      "metadata": {
        "id": "zBK4Rp_HPhu7"
      }
    }
  ]
}